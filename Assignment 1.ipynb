{
 "cells": [
  {
   "cell_type": "markdown",
   "id": "87b05cd7",
   "metadata": {},
   "source": [
    "### Q1. What are the characteristics of the tuples? Is tuple immutable?\n",
    "\n",
    "**Ans: Characteristics of Tuples:**\n",
    "\n",
    "*  Ordered: Elements in a tuple are arranged in a specific order and maintain their position.\n",
    "*  Immutable: Tuples are unchangeable. Once created, you cannot modify the elements within a tuple.\n",
    "*  Heterogeneous: Tuples can contain elements of different data types (e.g., integers, strings, floats, other tuples).\n",
    "*  Indexed: Elements in a tuple can be accessed using their index (starting from 0).\n",
    "*  Iterable: You can loop through the elements of a tuple using a loop.\n",
    "*  Hashable: Tuples can be used as keys in dictionaries because they are immutable and hashable.\n",
    "\n",
    "**Yes, tuples are immutable.** This means that you cannot add, remove, or modify elements within a tuple after it's created. If you need to change the contents of a tuple, you'll need to create a new tuple."
   ]
  },
  {
   "cell_type": "markdown",
   "id": "91c2cf9b",
   "metadata": {},
   "source": [
    "### Q2. What are the two tuple methods in python? Give an example of each method. Give a reason why tuples have only two in-built methods as compared to Lists.\n",
    "\n",
    "**Ans: Two Tuple Methods in Python:**\n",
    "\n",
    "1.  **count()**: This method returns the number of occurrences of a specified element within the tuple."
   ]
  },
  {
   "cell_type": "code",
   "execution_count": 6,
   "id": "5995683a",
   "metadata": {},
   "outputs": [
    {
     "name": "stdout",
     "output_type": "stream",
     "text": [
      "Element 2 has occurred 3 times in (1, 2, 3, 2, 4, 2).\n"
     ]
    }
   ],
   "source": [
    "#Example\n",
    "\n",
    "tuple1 = (1, 2, 3, 2, 4, 2)\n",
    "count = tuple1.count(2)\n",
    "print(f\"Element 2 has occurred {count} times in {tuple1}.\")"
   ]
  },
  {
   "cell_type": "markdown",
   "id": "afa446b4",
   "metadata": {},
   "source": [
    "2.  **index()**: This method returns the index of the first occurrence of a specified element within the tuple. If the element is not found, it raises a ValueError."
   ]
  },
  {
   "cell_type": "code",
   "execution_count": 7,
   "id": "946e1041",
   "metadata": {},
   "outputs": [
    {
     "name": "stdout",
     "output_type": "stream",
     "text": [
      "The index number of element 3 is 2 in (1, 2, 3, 4, 5).\n"
     ]
    }
   ],
   "source": [
    "# Example\n",
    "\n",
    "tuple2 = (1, 2, 3, 4, 5)\n",
    "index = tuple2.index(3)\n",
    "print(f\"The index number of element 3 is {index} in {tuple2}.\")"
   ]
  },
  {
   "cell_type": "markdown",
   "id": "04e0c119",
   "metadata": {},
   "source": [
    "**Reason for Limited Methods:**\n",
    "\n",
    "Tuples are designed to be immutable, meaning their elements cannot be changed. This inherent immutability restricts the need for many methods that modify or manipulate elements, which are common in mutable data structures like lists.\n",
    "\n",
    "The **count()** and **index()** methods are sufficient for most operations on tuples, as they provide essential information about the elements and their positions without altering the tuple itself."
   ]
  },
  {
   "cell_type": "markdown",
   "id": "5a516631",
   "metadata": {},
   "source": [
    "### Q3. Which collection datatypes in python do not allow duplicate items? Write a code using a set to remove duplicates from the given list.\n",
    "### List = [1, 1, 1, 2, 1, 3, 1, 4, 2, 1, 2, 2, 2, 3, 2, 4, 3, 1, 3, 2, 3, 3, 3, 4, 4, 1, 4, 2, 4, 3, 4, 4]\n",
    "\n",
    "**Ans: Collection datatypes in Python that do not allow duplicate items:**\n",
    "\n",
    "1.  Sets: Sets are unordered collections of unique elements. They automatically remove duplicates.\n",
    "2.  Dictionaries: While dictionaries are primarily used for key-value pairs, they also ensure that keys are unique."
   ]
  },
  {
   "cell_type": "code",
   "execution_count": 11,
   "id": "51fa2077",
   "metadata": {},
   "outputs": [
    {
     "name": "stdout",
     "output_type": "stream",
     "text": [
      "Original list before removing duplicates: \n",
      " [1, 1, 1, 2, 1, 3, 1, 4, 2, 1, 2, 2, 2, 3, 2, 4, 3, 1, 3, 2, 3, 3, 3, 4, 4, 1, 4, 2, 4, 3, 4, 4]\n",
      "List after removing duplicates: \n",
      " [1, 2, 3, 4]\n"
     ]
    }
   ],
   "source": [
    "# Code using a set to remove duplicates from a list:\n",
    "\n",
    "List = [1, 1, 1, 2, 1, 3, 1, 4, 2, 1, 2, 2, 2, 3, 2, 4, 3, 1, 3, 2, 3, 3, 3, 4, 4, 1, 4, 2, 4, 3, 4, 4]\n",
    "print(f\"Original list before removing duplicates: \\n {List}\")\n",
    "\n",
    "# Create a set from the list to remove duplicates\n",
    "unique_set = set(List)\n",
    "\n",
    "# Convert the set back to a list if needed\n",
    "unique_list = list(unique_set)\n",
    "\n",
    "print(f\"List after removing duplicates: \\n {unique_list}\")"
   ]
  },
  {
   "cell_type": "markdown",
   "id": "39d29c42",
   "metadata": {},
   "source": [
    "In this code, a set unique_set is created from the given list. The set automatically removes duplicates, and the resulting unique elements are then converted back to a list if necessary."
   ]
  },
  {
   "cell_type": "markdown",
   "id": "4d22782b",
   "metadata": {},
   "source": [
    "### Q4. Explain the difference between the union() and update() methods for a set. Give an example of each method.\n",
    "\n",
    "**Ans: Union() vs. Update() for Sets**\n",
    "**Union()** and **update()** are both methods used to combine elements from multiple sets, but they have distinct behaviors.\n",
    "\n",
    "**Union()**\n",
    "*  Returns a new set: It creates a new set that contains all unique elements from the original sets.\n",
    "*  Does not modify original sets: The original sets remain unchanged."
   ]
  },
  {
   "cell_type": "code",
   "execution_count": 16,
   "id": "5951a0c3",
   "metadata": {},
   "outputs": [
    {
     "name": "stdout",
     "output_type": "stream",
     "text": [
      "Set 1: {1, 2, 3}\n",
      "Set 2: {3, 4, 5}\n",
      "Union Set: {1, 2, 3, 4, 5}\n"
     ]
    }
   ],
   "source": [
    "# Example\n",
    "\n",
    "set1 = {1, 2, 3}\n",
    "print(f\"Set 1: {set1}\")\n",
    "\n",
    "set2 = {3, 4, 5}\n",
    "print(f\"Set 2: {set2}\")\n",
    "\n",
    "# Union of set1 and set2\n",
    "union_set = set1.union(set2)\n",
    "print(f\"Union Set: {union_set}\")\n",
    "\n"
   ]
  },
  {
   "cell_type": "markdown",
   "id": "eadac626",
   "metadata": {},
   "source": [
    "**Update()**\n",
    "*  Modifies the original set: It adds elements from the specified set(s) to the original set, updating it in place.\n",
    "*  Does not return a new set: It returns None."
   ]
  },
  {
   "cell_type": "code",
   "execution_count": 17,
   "id": "94b44071",
   "metadata": {},
   "outputs": [
    {
     "name": "stdout",
     "output_type": "stream",
     "text": [
      "Original sets: \n",
      " {1, 2, 3} \n",
      " {3, 4, 5}\n",
      "Set 1 after update: {1, 2, 3, 4, 5}\n",
      "Set 2 after update: {3, 4, 5}\n"
     ]
    }
   ],
   "source": [
    "print(f\"Original sets: \\n {set1} \\n {set2}\")\n",
    "# Update set1 with elements from set2\n",
    "set1.update(set2)\n",
    "\n",
    "print(f\"Set 1 after update: {set1}\")  # Output: {1, 2, 3, 4, 5}\n",
    "print(f\"Set 2 after update: {set2}\")  # Output: {3, 4, 5}"
   ]
  },
  {
   "cell_type": "markdown",
   "id": "6ff9d0a8",
   "metadata": {},
   "source": [
    "**In summary:**\n",
    "\n",
    "*  Union() creates a new set containing the combined elements.\n",
    "*  update() modifies the original set by adding elements from other sets."
   ]
  },
  {
   "cell_type": "markdown",
   "id": "0a598001",
   "metadata": {},
   "source": [
    "### Q5. What is a dictionary? Give an example. Also, state whether a dictionary is ordered or unordered.\n",
    "\n",
    "**Ans: Dictionary** is a collection of key-value pairs in Python. Each key is unique and associated with a corresponding value. Dictionaries are often used to store and retrieve data based on specific identifiers or labels."
   ]
  },
  {
   "cell_type": "code",
   "execution_count": 18,
   "id": "12ef5952",
   "metadata": {},
   "outputs": [
    {
     "name": "stdout",
     "output_type": "stream",
     "text": [
      "{'name': 'Saif', 'age': 20, 'city': 'New York'}\n"
     ]
    }
   ],
   "source": [
    "# Example\n",
    "\n",
    "my_dict = {\n",
    "    \"name\": \"Saif\",\n",
    "    \"age\": 20,\n",
    "    \"city\": \"New York\"\n",
    "}\n",
    "\n",
    "print(my_dict)"
   ]
  },
  {
   "cell_type": "markdown",
   "id": "5de8c4c4",
   "metadata": {},
   "source": [
    "In this example, **name, age**, and **city** are the keys, and their corresponding values are **\"Saif\", 20**, and **\"New York\"**, respectively."
   ]
  },
  {
   "cell_type": "markdown",
   "id": "f7cae7af",
   "metadata": {},
   "source": [
    "**Ordered or Unordered?**\n",
    "\n",
    "**Dictionaries are unordered.** This means that the order in which elements are stored within a dictionary is not guaranteed. The keys are used for efficient lookup, and the order of elements is not relevant for most operations.\n",
    "\n",
    "While Python 3.7 introduced a concept of insertion order preservation for dictionaries, it's primarily for performance optimization and should not be relied upon for strict ordering."
   ]
  },
  {
   "cell_type": "markdown",
   "id": "aabf9e05",
   "metadata": {},
   "source": [
    "### Q6. Can we create a nested dictionary? If so, please give an example by creating a simple one-level nested dictionary.\n",
    "\n",
    "**Ans: Yes, you can create nested dictionaries in Python.** This means that a dictionary can contain another dictionary as one of its values."
   ]
  },
  {
   "cell_type": "code",
   "execution_count": 19,
   "id": "f97c7308",
   "metadata": {},
   "outputs": [
    {
     "name": "stdout",
     "output_type": "stream",
     "text": [
      "{'student1': {'name': 'Saif', 'age': 20, 'grade': 'A'}, 'student2': {'name': 'Kaif', 'age': 22, 'grade': 'B+'}}\n"
     ]
    }
   ],
   "source": [
    "# Here's a simple example of a one-level nested dictionary:\n",
    "\n",
    "student_data = {\n",
    "    \"student1\": {\n",
    "        \"name\": \"Saif\",\n",
    "        \"age\": 20,\n",
    "        \"grade\": \"A\"\n",
    "    },\n",
    "    \"student2\": {\n",
    "        \"name\": \"Kaif\",\n",
    "        \"age\": 22,\n",
    "        \"grade\": \"B+\"\n",
    "    }\n",
    "}\n",
    "\n",
    "print(student_data)"
   ]
  },
  {
   "cell_type": "markdown",
   "id": "555ecdcd",
   "metadata": {},
   "source": [
    "In this example, the **student_data** dictionary contains two keys: **student1** and **student2**. The values associated with these keys are dictionaries themselves, each containing information about a student."
   ]
  },
  {
   "cell_type": "markdown",
   "id": "051b512e",
   "metadata": {},
   "source": [
    "### Q7. Using setdefault() method, create key named topics in the given dictionary and also add the value of the key as this list ['Python', 'Machine Learning’, 'Deep Learning']\n",
    "\n",
    "**Ans:** The **setdefault()** method in Python is a convenient way to add a new key-value pair to a dictionary, but only if the key doesn't already exist. If the key already exists, the method returns the existing value associated with that key."
   ]
  },
  {
   "cell_type": "code",
   "execution_count": 21,
   "id": "9bd7501b",
   "metadata": {},
   "outputs": [
    {
     "name": "stdout",
     "output_type": "stream",
     "text": [
      "{'topics': ['Python', 'Machine Learning', 'Deep Learning']}\n"
     ]
    }
   ],
   "source": [
    "# code\n",
    "\n",
    "course_details = {}\n",
    "course_details.setdefault(\"topics\", [\"Python\", \"Machine Learning\", \"Deep Learning\"])\n",
    "\n",
    "print(course_details)"
   ]
  },
  {
   "cell_type": "markdown",
   "id": "0323616b",
   "metadata": {},
   "source": [
    "This code will create an empty dictionary **my_dict**. Then, it uses the **setdefault()** method to check if the key \"topics\" exists in the dictionary. If it doesn't, it creates the key and assigns the list **[\"Python\", \"Machine Learning\", \"Deep Learning\"]** as its value. Finally, it prints the updated dictionary."
   ]
  },
  {
   "cell_type": "markdown",
   "id": "1cf35fa4",
   "metadata": {},
   "source": [
    "### Q8. What are the three view objects in dictionaries? Use the three in-built methods in python to display these three view objects for the given dictionary.\n",
    "\n",
    "**Three View Objects in Dictionaries:**\n",
    "\n",
    "1.  keys(): Returns a view object containing all the keys of the dictionary.\n",
    "2.  values(): Returns a view object containing all the values of the dictionary.\n",
    "3.  items(): Returns a view object containing key-value pairs as tuples."
   ]
  },
  {
   "cell_type": "code",
   "execution_count": 22,
   "id": "fef4bb75",
   "metadata": {},
   "outputs": [
    {
     "name": "stdout",
     "output_type": "stream",
     "text": [
      "dict_keys(['name', 'age', 'city'])\n",
      "dict_values(['Saif', 20, 'New York'])\n",
      "dict_items([('name', 'Saif'), ('age', 20), ('city', 'New York')])\n"
     ]
    }
   ],
   "source": [
    "# In-built methods to display view objects:\n",
    "\n",
    "my_dict = {\n",
    "    \"name\": \"Saif\",\n",
    "    \"age\": 20,\n",
    "    \"city\": \"New York\"\n",
    "}\n",
    "# Display keys\n",
    "keys_view = my_dict.keys()\n",
    "print(keys_view)\n",
    "\n",
    "# Display values\n",
    "values_view = my_dict.values()\n",
    "print(values_view)\n",
    "\n",
    "# Display key-value pairs\n",
    "items_view = my_dict.items()\n",
    "print(items_view)"
   ]
  },
  {
   "cell_type": "markdown",
   "id": "9012c3f4",
   "metadata": {},
   "source": [
    "**Important Note:**\n",
    "\n",
    "*  These view objects are dynamic. If you modify the original dictionary, the view objects will also reflect the changes.\n",
    "*  The view objects are not directly modifiable. If you need to modify the contents, you'll need to modify the original dictionary."
   ]
  },
  {
   "cell_type": "code",
   "execution_count": null,
   "id": "59b24ca5",
   "metadata": {},
   "outputs": [],
   "source": []
  }
 ],
 "metadata": {
  "kernelspec": {
   "display_name": "Python 3 (ipykernel)",
   "language": "python",
   "name": "python3"
  },
  "language_info": {
   "codemirror_mode": {
    "name": "ipython",
    "version": 3
   },
   "file_extension": ".py",
   "mimetype": "text/x-python",
   "name": "python",
   "nbconvert_exporter": "python",
   "pygments_lexer": "ipython3",
   "version": "3.11.2"
  }
 },
 "nbformat": 4,
 "nbformat_minor": 5
}
